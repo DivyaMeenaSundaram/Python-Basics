{
  "nbformat": 4,
  "nbformat_minor": 0,
  "metadata": {
    "colab": {
      "provenance": [],
      "authorship_tag": "ABX9TyMMZFZUX7IllANDuXunmC7y",
      "include_colab_link": true
    },
    "kernelspec": {
      "name": "python3",
      "display_name": "Python 3"
    },
    "language_info": {
      "name": "python"
    }
  },
  "cells": [
    {
      "cell_type": "markdown",
      "metadata": {
        "id": "view-in-github",
        "colab_type": "text"
      },
      "source": [
        "<a href=\"https://colab.research.google.com/github/DivyaMeenaSundaram/Python-Basics/blob/main/Story_generator.ipynb\" target=\"_parent\"><img src=\"https://colab.research.google.com/assets/colab-badge.svg\" alt=\"Open In Colab\"/></a>"
      ]
    },
    {
      "cell_type": "code",
      "execution_count": null,
      "metadata": {
        "id": "9Y6b6R8pswuD"
      },
      "outputs": [],
      "source": [
        "import random"
      ]
    },
    {
      "cell_type": "code",
      "source": [
        "when = ['A few years ago', 'Yesterday', 'Last night', 'A long time ago','On 20th Jan']"
      ],
      "metadata": {
        "id": "p2vAGlm8szsh"
      },
      "execution_count": null,
      "outputs": []
    },
    {
      "cell_type": "code",
      "source": [
        "who = ['a rabbit', 'an elephant', 'a mouse', 'a turtle','a cat']"
      ],
      "metadata": {
        "id": "EtbnvB04s17b"
      },
      "execution_count": null,
      "outputs": []
    },
    {
      "cell_type": "code",
      "source": [
        "name = ['Ali', 'Miriam','daniel', 'Hoouk', 'Starwalker']"
      ],
      "metadata": {
        "id": "mj1hV1Xhs4BL"
      },
      "execution_count": null,
      "outputs": []
    },
    {
      "cell_type": "code",
      "source": [
        "residence = ['Barcelona','India', 'Germany', 'Venice', 'England']"
      ],
      "metadata": {
        "id": "EDgsuPwBs8kw"
      },
      "execution_count": null,
      "outputs": []
    },
    {
      "cell_type": "code",
      "source": [
        "went = ['cinema', 'university','seminar', 'school', 'laundry']"
      ],
      "metadata": {
        "id": "faDAox7Ls-9g"
      },
      "execution_count": null,
      "outputs": []
    },
    {
      "cell_type": "code",
      "source": [
        "happened = ['made a lot of friends','Eats a burger', 'found a secret key', 'solved a mistery', 'wrote a book']"
      ],
      "metadata": {
        "id": "3HvMpOrWtBtr"
      },
      "execution_count": null,
      "outputs": []
    },
    {
      "cell_type": "code",
      "source": [
        "print(random.choice(when) + ', ' + random.choice(who) + ' that lived in ' + random.choice(residence) + ', went to the ' + random.choice(went) + ' and ' + random.choice(happened))"
      ],
      "metadata": {
        "colab": {
          "base_uri": "https://localhost:8080/"
        },
        "id": "xt0jzWHJtEtz",
        "outputId": "a1b35b3d-ea90-40f0-d1f3-75f1a2c4328e"
      },
      "execution_count": null,
      "outputs": [
        {
          "output_type": "stream",
          "name": "stdout",
          "text": [
            "A few years ago, a mouse that lived in England, went to the university and wrote a book\n"
          ]
        }
      ]
    }
  ]
}